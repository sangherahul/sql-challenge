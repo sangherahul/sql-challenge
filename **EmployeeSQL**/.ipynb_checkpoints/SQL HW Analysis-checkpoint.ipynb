{
 "cells": [
  {
   "cell_type": "code",
   "execution_count": 16,
   "metadata": {},
   "outputs": [],
   "source": [
    "from sqlalchemy import create_engine\n",
    "import pandas as pd"
   ]
  },
  {
   "cell_type": "code",
   "execution_count": 14,
   "metadata": {},
   "outputs": [],
   "source": [
    "engine = create_engine('Shhh..its a secret!')\n",
    "connection = engine.connect()"
   ]
  },
  {
   "cell_type": "code",
   "execution_count": 18,
   "metadata": {},
   "outputs": [],
   "source": [
    "db=pd.read_sql('SELECT * FROM salaries',connection)"
   ]
  },
  {
   "cell_type": "code",
   "execution_count": 19,
   "metadata": {},
   "outputs": [
    {
     "data": {
      "text/html": [
       "<div>\n",
       "<style scoped>\n",
       "    .dataframe tbody tr th:only-of-type {\n",
       "        vertical-align: middle;\n",
       "    }\n",
       "\n",
       "    .dataframe tbody tr th {\n",
       "        vertical-align: top;\n",
       "    }\n",
       "\n",
       "    .dataframe thead th {\n",
       "        text-align: right;\n",
       "    }\n",
       "</style>\n",
       "<table border=\"1\" class=\"dataframe\">\n",
       "  <thead>\n",
       "    <tr style=\"text-align: right;\">\n",
       "      <th></th>\n",
       "      <th>emp_no</th>\n",
       "      <th>salary</th>\n",
       "      <th>from_date</th>\n",
       "      <th>to_date</th>\n",
       "    </tr>\n",
       "  </thead>\n",
       "  <tbody>\n",
       "    <tr>\n",
       "      <td>0</td>\n",
       "      <td>10001</td>\n",
       "      <td>60117</td>\n",
       "      <td>1986-06-26</td>\n",
       "      <td>1987-06-26</td>\n",
       "    </tr>\n",
       "    <tr>\n",
       "      <td>1</td>\n",
       "      <td>10002</td>\n",
       "      <td>65828</td>\n",
       "      <td>1996-08-03</td>\n",
       "      <td>1997-08-03</td>\n",
       "    </tr>\n",
       "    <tr>\n",
       "      <td>2</td>\n",
       "      <td>10003</td>\n",
       "      <td>40006</td>\n",
       "      <td>1995-12-03</td>\n",
       "      <td>1996-12-02</td>\n",
       "    </tr>\n",
       "    <tr>\n",
       "      <td>3</td>\n",
       "      <td>10004</td>\n",
       "      <td>40054</td>\n",
       "      <td>1986-12-01</td>\n",
       "      <td>1987-12-01</td>\n",
       "    </tr>\n",
       "    <tr>\n",
       "      <td>4</td>\n",
       "      <td>10005</td>\n",
       "      <td>78228</td>\n",
       "      <td>1989-09-12</td>\n",
       "      <td>1990-09-12</td>\n",
       "    </tr>\n",
       "    <tr>\n",
       "      <td>...</td>\n",
       "      <td>...</td>\n",
       "      <td>...</td>\n",
       "      <td>...</td>\n",
       "      <td>...</td>\n",
       "    </tr>\n",
       "    <tr>\n",
       "      <td>300019</td>\n",
       "      <td>499995</td>\n",
       "      <td>40000</td>\n",
       "      <td>1997-06-02</td>\n",
       "      <td>1998-06-02</td>\n",
       "    </tr>\n",
       "    <tr>\n",
       "      <td>300020</td>\n",
       "      <td>499996</td>\n",
       "      <td>58058</td>\n",
       "      <td>1996-05-13</td>\n",
       "      <td>1997-05-13</td>\n",
       "    </tr>\n",
       "    <tr>\n",
       "      <td>300021</td>\n",
       "      <td>499997</td>\n",
       "      <td>49597</td>\n",
       "      <td>1987-08-30</td>\n",
       "      <td>1988-08-29</td>\n",
       "    </tr>\n",
       "    <tr>\n",
       "      <td>300022</td>\n",
       "      <td>499998</td>\n",
       "      <td>40000</td>\n",
       "      <td>1993-12-27</td>\n",
       "      <td>1994-12-27</td>\n",
       "    </tr>\n",
       "    <tr>\n",
       "      <td>300023</td>\n",
       "      <td>499999</td>\n",
       "      <td>63707</td>\n",
       "      <td>1997-11-30</td>\n",
       "      <td>1998-11-30</td>\n",
       "    </tr>\n",
       "  </tbody>\n",
       "</table>\n",
       "<p>300024 rows × 4 columns</p>\n",
       "</div>"
      ],
      "text/plain": [
       "        emp_no  salary   from_date     to_date\n",
       "0        10001   60117  1986-06-26  1987-06-26\n",
       "1        10002   65828  1996-08-03  1997-08-03\n",
       "2        10003   40006  1995-12-03  1996-12-02\n",
       "3        10004   40054  1986-12-01  1987-12-01\n",
       "4        10005   78228  1989-09-12  1990-09-12\n",
       "...        ...     ...         ...         ...\n",
       "300019  499995   40000  1997-06-02  1998-06-02\n",
       "300020  499996   58058  1996-05-13  1997-05-13\n",
       "300021  499997   49597  1987-08-30  1988-08-29\n",
       "300022  499998   40000  1993-12-27  1994-12-27\n",
       "300023  499999   63707  1997-11-30  1998-11-30\n",
       "\n",
       "[300024 rows x 4 columns]"
      ]
     },
     "execution_count": 19,
     "metadata": {},
     "output_type": "execute_result"
    }
   ],
   "source": [
    "db"
   ]
  },
  {
   "cell_type": "code",
   "execution_count": 49,
   "metadata": {},
   "outputs": [
    {
     "data": {
      "text/plain": [
       "<matplotlib.axes._subplots.AxesSubplot at 0x12d8f2610>"
      ]
     },
     "execution_count": 49,
     "metadata": {},
     "output_type": "execute_result"
    },
    {
     "data": {
      "image/png": "[encoded data removed]",
      "text/plain": [
       "<Figure size 432x288 with 1 Axes>"
      ]
     },
     "metadata": {
      "needs_background": "light"
     },
     "output_type": "display_data"
    }
   ],
   "source": [
    "db.plot.scatter(x='emp_no',y='salary')"
   ]
  },
  {
   "cell_type": "code",
   "execution_count": 29,
   "metadata": {},
   "outputs": [],
   "source": [
    "db1=pd.read_sql('SELECT * FROM dept_emp',connection)\n",
    "db2=pd.read_sql('SELECT * FROM departments',connection)"
   ]
  },
  {
   "cell_type": "code",
   "execution_count": 32,
   "metadata": {},
   "outputs": [],
   "source": [
    "db3=pd.merge(db,db1, on='emp_no')"
   ]
  },
  {
   "cell_type": "code",
   "execution_count": 34,
   "metadata": {},
   "outputs": [],
   "source": [
    "db4=pd.merge(db3,db2, on='dept_no')"
   ]
  },
  {
   "cell_type": "code",
   "execution_count": 35,
   "metadata": {},
   "outputs": [
    {
     "data": {
      "text/html": [
       "<div>\n",
       "<style scoped>\n",
       "    .dataframe tbody tr th:only-of-type {\n",
       "        vertical-align: middle;\n",
       "    }\n",
       "\n",
       "    .dataframe tbody tr th {\n",
       "        vertical-align: top;\n",
       "    }\n",
       "\n",
       "    .dataframe thead th {\n",
       "        text-align: right;\n",
       "    }\n",
       "</style>\n",
       "<table border=\"1\" class=\"dataframe\">\n",
       "  <thead>\n",
       "    <tr style=\"text-align: right;\">\n",
       "      <th></th>\n",
       "      <th>emp_no</th>\n",
       "      <th>salary</th>\n",
       "      <th>from_date_x</th>\n",
       "      <th>to_date_x</th>\n",
       "      <th>dept_no</th>\n",
       "      <th>from_date_y</th>\n",
       "      <th>to_date_y</th>\n",
       "      <th>dept_name</th>\n",
       "    </tr>\n",
       "  </thead>\n",
       "  <tbody>\n",
       "    <tr>\n",
       "      <td>0</td>\n",
       "      <td>10001</td>\n",
       "      <td>60117</td>\n",
       "      <td>1986-06-26</td>\n",
       "      <td>1987-06-26</td>\n",
       "      <td>d005</td>\n",
       "      <td>1986-06-26</td>\n",
       "      <td>9999-01-01</td>\n",
       "      <td>Development</td>\n",
       "    </tr>\n",
       "    <tr>\n",
       "      <td>1</td>\n",
       "      <td>10006</td>\n",
       "      <td>40000</td>\n",
       "      <td>1990-08-05</td>\n",
       "      <td>1991-08-05</td>\n",
       "      <td>d005</td>\n",
       "      <td>1990-08-05</td>\n",
       "      <td>9999-01-01</td>\n",
       "      <td>Development</td>\n",
       "    </tr>\n",
       "    <tr>\n",
       "      <td>2</td>\n",
       "      <td>10008</td>\n",
       "      <td>46671</td>\n",
       "      <td>1998-03-11</td>\n",
       "      <td>1999-03-11</td>\n",
       "      <td>d005</td>\n",
       "      <td>1998-03-11</td>\n",
       "      <td>2000-07-31</td>\n",
       "      <td>Development</td>\n",
       "    </tr>\n",
       "    <tr>\n",
       "      <td>3</td>\n",
       "      <td>10012</td>\n",
       "      <td>40000</td>\n",
       "      <td>1992-12-18</td>\n",
       "      <td>1993-12-18</td>\n",
       "      <td>d005</td>\n",
       "      <td>1992-12-18</td>\n",
       "      <td>9999-01-01</td>\n",
       "      <td>Development</td>\n",
       "    </tr>\n",
       "    <tr>\n",
       "      <td>4</td>\n",
       "      <td>10014</td>\n",
       "      <td>46168</td>\n",
       "      <td>1993-12-29</td>\n",
       "      <td>1994-12-29</td>\n",
       "      <td>d005</td>\n",
       "      <td>1993-12-29</td>\n",
       "      <td>9999-01-01</td>\n",
       "      <td>Development</td>\n",
       "    </tr>\n",
       "    <tr>\n",
       "      <td>...</td>\n",
       "      <td>...</td>\n",
       "      <td>...</td>\n",
       "      <td>...</td>\n",
       "      <td>...</td>\n",
       "      <td>...</td>\n",
       "      <td>...</td>\n",
       "      <td>...</td>\n",
       "      <td>...</td>\n",
       "    </tr>\n",
       "    <tr>\n",
       "      <td>331598</td>\n",
       "      <td>499950</td>\n",
       "      <td>54788</td>\n",
       "      <td>1999-02-02</td>\n",
       "      <td>2000-02-02</td>\n",
       "      <td>d002</td>\n",
       "      <td>1999-02-02</td>\n",
       "      <td>2000-02-23</td>\n",
       "      <td>Finance</td>\n",
       "    </tr>\n",
       "    <tr>\n",
       "      <td>331599</td>\n",
       "      <td>499975</td>\n",
       "      <td>40000</td>\n",
       "      <td>1995-11-21</td>\n",
       "      <td>1996-11-20</td>\n",
       "      <td>d002</td>\n",
       "      <td>1996-10-19</td>\n",
       "      <td>1997-07-23</td>\n",
       "      <td>Finance</td>\n",
       "    </tr>\n",
       "    <tr>\n",
       "      <td>331600</td>\n",
       "      <td>499977</td>\n",
       "      <td>70216</td>\n",
       "      <td>1999-12-28</td>\n",
       "      <td>2000-12-27</td>\n",
       "      <td>d002</td>\n",
       "      <td>1999-12-28</td>\n",
       "      <td>9999-01-01</td>\n",
       "      <td>Finance</td>\n",
       "    </tr>\n",
       "    <tr>\n",
       "      <td>331601</td>\n",
       "      <td>499989</td>\n",
       "      <td>64183</td>\n",
       "      <td>1996-10-29</td>\n",
       "      <td>1997-10-29</td>\n",
       "      <td>d002</td>\n",
       "      <td>1996-10-29</td>\n",
       "      <td>2001-03-07</td>\n",
       "      <td>Finance</td>\n",
       "    </tr>\n",
       "    <tr>\n",
       "      <td>331602</td>\n",
       "      <td>499998</td>\n",
       "      <td>40000</td>\n",
       "      <td>1993-12-27</td>\n",
       "      <td>1994-12-27</td>\n",
       "      <td>d002</td>\n",
       "      <td>1993-12-27</td>\n",
       "      <td>9999-01-01</td>\n",
       "      <td>Finance</td>\n",
       "    </tr>\n",
       "  </tbody>\n",
       "</table>\n",
       "<p>331603 rows × 8 columns</p>\n",
       "</div>"
      ],
      "text/plain": [
       "        emp_no  salary from_date_x   to_date_x dept_no from_date_y  \\\n",
       "0        10001   60117  1986-06-26  1987-06-26    d005  1986-06-26   \n",
       "1        10006   40000  1990-08-05  1991-08-05    d005  1990-08-05   \n",
       "2        10008   46671  1998-03-11  1999-03-11    d005  1998-03-11   \n",
       "3        10012   40000  1992-12-18  1993-12-18    d005  1992-12-18   \n",
       "4        10014   46168  1993-12-29  1994-12-29    d005  1993-12-29   \n",
       "...        ...     ...         ...         ...     ...         ...   \n",
       "331598  499950   54788  1999-02-02  2000-02-02    d002  1999-02-02   \n",
       "331599  499975   40000  1995-11-21  1996-11-20    d002  1996-10-19   \n",
       "331600  499977   70216  1999-12-28  2000-12-27    d002  1999-12-28   \n",
       "331601  499989   64183  1996-10-29  1997-10-29    d002  1996-10-29   \n",
       "331602  499998   40000  1993-12-27  1994-12-27    d002  1993-12-27   \n",
       "\n",
       "         to_date_y    dept_name  \n",
       "0       9999-01-01  Development  \n",
       "1       9999-01-01  Development  \n",
       "2       2000-07-31  Development  \n",
       "3       9999-01-01  Development  \n",
       "4       9999-01-01  Development  \n",
       "...            ...          ...  \n",
       "331598  2000-02-23      Finance  \n",
       "331599  1997-07-23      Finance  \n",
       "331600  9999-01-01      Finance  \n",
       "331601  2001-03-07      Finance  \n",
       "331602  9999-01-01      Finance  \n",
       "\n",
       "[331603 rows x 8 columns]"
      ]
     },
     "execution_count": 35,
     "metadata": {},
     "output_type": "execute_result"
    }
   ],
   "source": [
    "db4"
   ]
  },
  {
   "cell_type": "code",
   "execution_count": 37,
   "metadata": {},
   "outputs": [],
   "source": [
    "db5=db4.groupby('dept_name').mean()"
   ]
  },
  {
   "cell_type": "code",
   "execution_count": 43,
   "metadata": {},
   "outputs": [],
   "source": [
    "db5=db5.reset_index()"
   ]
  },
  {
   "cell_type": "code",
   "execution_count": 44,
   "metadata": {},
   "outputs": [
    {
     "data": {
      "text/plain": [
       "<matplotlib.axes._subplots.AxesSubplot at 0x12502efd0>"
      ]
     },
     "execution_count": 44,
     "metadata": {},
     "output_type": "execute_result"
    },
    {
     "data": {
      "image/png": "[encoded data removed]",
      "text/plain": [
       "<Figure size 432x288 with 1 Axes>"
      ]
     },
     "metadata": {
      "needs_background": "light"
     },
     "output_type": "display_data"
    }
   ],
   "source": [
    "db5.plot.bar(x='dept_name',y='salary')"
   ]
  },
  {
   "cell_type": "code",
   "execution_count": null,
   "metadata": {},
   "outputs": [],
   "source": []
  }
 ],
 "metadata": {
  "kernelspec": {
   "display_name": "Python 3",
   "language": "python",
   "name": "python3"
  },
  "language_info": {
   "codemirror_mode": {
    "name": "ipython",
    "version": 3
   },
   "file_extension": ".py",
   "mimetype": "text/x-python",
   "name": "python",
   "nbconvert_exporter": "python",
   "pygments_lexer": "ipython3",
   "version": "3.7.4"
  }
 },
 "nbformat": 4,
 "nbformat_minor": 2
}
